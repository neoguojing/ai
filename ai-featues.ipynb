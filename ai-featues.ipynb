{
 "cells": [
  {
   "cell_type": "code",
   "execution_count": 1,
   "metadata": {
    "_cell_guid": "b1076dfc-b9ad-4769-8c92-a6c4dae69d19",
    "_uuid": "8f2839f25d086af736a60e9eeb907d3b93b6e0e5",
    "execution": {
     "iopub.execute_input": "2023-04-21T11:49:24.538465Z",
     "iopub.status.busy": "2023-04-21T11:49:24.536995Z",
     "iopub.status.idle": "2023-04-21T11:49:24.549507Z",
     "shell.execute_reply": "2023-04-21T11:49:24.548320Z",
     "shell.execute_reply.started": "2023-04-21T11:49:24.538420Z"
    }
   },
   "outputs": [],
   "source": [
    "import torch\n",
    "import torchvision.models as models\n",
    "import torchvision.transforms as transforms\n",
    "from PIL import Image\n",
    "\n",
    "def get_model(model_name):\n",
    "    if model_name == 'resnet50':\n",
    "        model = models.resnet50(pretrained=True)\n",
    "    elif model_name == 'vgg16':\n",
    "        model = models.vgg16(pretrained=True)\n",
    "    elif model_name == 'inception_v3':\n",
    "        model = models.inception_v3(pretrained=True)\n",
    "    elif model_name == 'mobilenet_v2':\n",
    "        model = models.mobilenet_v2(pretrained=True)\n",
    "    elif model_name == 'densenet121':\n",
    "        model = models.densenet121(pretrained=True)\n",
    "    else:\n",
    "        raise ValueError('Invalid model name')\n",
    "    model.eval()\n",
    "    return model\n",
    "\n",
    "def extract_features(model, input_image_path):\n",
    "    input_image = Image.open(input_image_path)\n",
    "    preprocess = transforms.Compose([\n",
    "        transforms.Resize(256),\n",
    "        transforms.CenterCrop(224),\n",
    "        transforms.ToTensor(),\n",
    "        transforms.Normalize(mean=[0.485, 0.456, 0.406], std=[0.229, 0.224, 0.225]),\n",
    "    ])\n",
    "    input_tensor = preprocess(input_image)\n",
    "    input_batch = input_tensor.unsqueeze(0)\n",
    "\n",
    "    if torch.cuda.is_available():\n",
    "        input_batch = input_batch.cuda()\n",
    "        model.eval().cuda()\n",
    "        print(\"using gpu\")\n",
    "\n",
    "    with torch.no_grad():\n",
    "        output = model(input_batch)\n",
    "    return output[0]\n",
    "\n"
   ]
  },
  {
   "cell_type": "code",
   "execution_count": null,
   "metadata": {},
   "outputs": [],
   "source": []
  },
  {
   "cell_type": "code",
   "execution_count": null,
   "metadata": {
    "execution": {
     "iopub.execute_input": "2023-04-21T11:49:31.441878Z",
     "iopub.status.busy": "2023-04-21T11:49:31.441420Z",
     "iopub.status.idle": "2023-04-21T11:49:33.348430Z",
     "shell.execute_reply": "2023-04-21T11:49:33.347210Z",
     "shell.execute_reply.started": "2023-04-21T11:49:31.441836Z"
    }
   },
   "outputs": [],
   "source": [
    "model = get_model(\"resnet50\")\n",
    "output = extract_features(model,\"/workspace/tests/pexels-pixabay-45201.jpg\")\n",
    "print(output)"
   ]
  },
  {
   "cell_type": "code",
   "execution_count": null,
   "metadata": {},
   "outputs": [],
   "source": [
    "model = get_model(\"vgg16\")\n",
    "output = extract_features(model,\"/workspace/tests/pexels-pixabay-45201.jpg\")\n",
    "print(output)"
   ]
  },
  {
   "cell_type": "code",
   "execution_count": null,
   "metadata": {},
   "outputs": [],
   "source": [
    "model = get_model(\"inception_v3\")\n",
    "output = extract_features(model,\"/workspace/tests/pexels-pixabay-45201.jpg\")\n",
    "print(output)"
   ]
  },
  {
   "cell_type": "code",
   "execution_count": null,
   "metadata": {},
   "outputs": [],
   "source": [
    "model = get_model(\"mobilenet_v2\")\n",
    "output = extract_features(model,\"/workspace/tests/pexels-pixabay-45201.jpg\")\n",
    "print(output)"
   ]
  },
  {
   "cell_type": "code",
   "execution_count": null,
   "metadata": {},
   "outputs": [],
   "source": [
    "model = get_model(\"densenet121\")\n",
    "output = extract_features(model,\"/workspace/tests/pexels-pixabay-45201.jpg\")\n",
    "print(output)"
   ]
  },
  {
   "cell_type": "code",
   "execution_count": null,
   "metadata": {},
   "outputs": [],
   "source": []
  }
 ],
 "metadata": {
  "kernelspec": {
   "display_name": "Python 3 (ipykernel)",
   "language": "python",
   "name": "python3"
  },
  "language_info": {
   "codemirror_mode": {
    "name": "ipython",
    "version": 3
   },
   "file_extension": ".py",
   "mimetype": "text/x-python",
   "name": "python",
   "nbconvert_exporter": "python",
   "pygments_lexer": "ipython3",
   "version": "3.8.16"
  }
 },
 "nbformat": 4,
 "nbformat_minor": 4
}
