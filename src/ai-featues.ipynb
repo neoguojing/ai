{
 "cells": [
  {
   "cell_type": "code",
   "execution_count": 1,
   "metadata": {
    "_cell_guid": "b1076dfc-b9ad-4769-8c92-a6c4dae69d19",
    "_uuid": "8f2839f25d086af736a60e9eeb907d3b93b6e0e5",
    "execution": {
     "iopub.execute_input": "2023-04-21T11:49:24.538465Z",
     "iopub.status.busy": "2023-04-21T11:49:24.536995Z",
     "iopub.status.idle": "2023-04-21T11:49:24.549507Z",
     "shell.execute_reply": "2023-04-21T11:49:24.548320Z",
     "shell.execute_reply.started": "2023-04-21T11:49:24.538420Z"
    }
   },
   "outputs": [],
   "source": [
    "import sys\n",
    "sys.path.insert(0, '')\n",
    "from features import extract_features\n"
   ]
  },
  {
   "cell_type": "code",
   "execution_count": null,
   "metadata": {
    "execution": {
     "iopub.execute_input": "2023-04-21T11:49:31.441878Z",
     "iopub.status.busy": "2023-04-21T11:49:31.441420Z",
     "iopub.status.idle": "2023-04-21T11:49:33.348430Z",
     "shell.execute_reply": "2023-04-21T11:49:33.347210Z",
     "shell.execute_reply.started": "2023-04-21T11:49:31.441836Z"
    }
   },
   "outputs": [],
   "source": [
    "\n",
    "output = extract_features(\"/workspace/tests/pexels-pixabay-45201.jpg\",\"resnet50\")\n",
    "print(output)"
   ]
  },
  {
   "cell_type": "code",
   "execution_count": null,
   "metadata": {},
   "outputs": [],
   "source": [
    "\n",
    "output = extract_features(\"/workspace/tests/pexels-pixabay-45201.jpg\",\"vgg16\")\n",
    "print(output)"
   ]
  },
  {
   "cell_type": "code",
   "execution_count": null,
   "metadata": {},
   "outputs": [],
   "source": [
    "\n",
    "output = extract_features(\"/workspace/tests/pexels-pixabay-45201.jpg\",\"inception_v3\")\n",
    "print(output)"
   ]
  },
  {
   "cell_type": "code",
   "execution_count": null,
   "metadata": {},
   "outputs": [],
   "source": [
    "\n",
    "output = extract_features(\"/workspace/tests/pexels-pixabay-45201.jpg\",\"mobilenet_v2\")\n",
    "print(output)"
   ]
  },
  {
   "cell_type": "code",
   "execution_count": null,
   "metadata": {},
   "outputs": [],
   "source": [
    "\n",
    "output = extract_features(\"/workspace/tests/pexels-pixabay-45201.jpg\",\"densenet121\")\n",
    "print(output)"
   ]
  },
  {
   "cell_type": "code",
   "execution_count": null,
   "metadata": {},
   "outputs": [],
   "source": []
  }
 ],
 "metadata": {
  "kernelspec": {
   "display_name": "Python 3 (ipykernel)",
   "language": "python",
   "name": "python3"
  },
  "language_info": {
   "codemirror_mode": {
    "name": "ipython",
    "version": 3
   },
   "file_extension": ".py",
   "mimetype": "text/x-python",
   "name": "python",
   "nbconvert_exporter": "python",
   "pygments_lexer": "ipython3",
   "version": "3.8.16"
  }
 },
 "nbformat": 4,
 "nbformat_minor": 4
}
